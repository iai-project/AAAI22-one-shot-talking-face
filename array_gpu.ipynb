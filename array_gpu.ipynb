{
  "nbformat": 4,
  "nbformat_minor": 0,
  "metadata": {
    "colab": {
      "provenance": [],
      "gpuType": "T4",
      "authorship_tag": "ABX9TyPTBYRD4hykKAkjaF6UVLdV",
      "include_colab_link": true
    },
    "kernelspec": {
      "name": "python3",
      "display_name": "Python 3"
    },
    "language_info": {
      "name": "python"
    },
    "accelerator": "GPU"
  },
  "cells": [
    {
      "cell_type": "markdown",
      "metadata": {
        "id": "view-in-github",
        "colab_type": "text"
      },
      "source": [
        "<a href=\"https://colab.research.google.com/github/iai-project/AAAI22-one-shot-talking-face/blob/main/array_gpu.ipynb\" target=\"_parent\"><img src=\"https://colab.research.google.com/assets/colab-badge.svg\" alt=\"Open In Colab\"/></a>"
      ]
    },
    {
      "cell_type": "code",
      "execution_count": null,
      "metadata": {
        "colab": {
          "base_uri": "https://localhost:8080/"
        },
        "id": "MMQhUnqO7dJb",
        "outputId": "181e90a4-6ca6-4d43-f87e-c3a71983f208"
      },
      "outputs": [
        {
          "output_type": "stream",
          "name": "stdout",
          "text": [
            "tf.Tensor(\n",
            "[[1. 2. 3.]\n",
            " [4. 5. 6.]\n",
            " [7. 8. 9.]], shape=(3, 3), dtype=float16) \n",
            "\n",
            "tf.Tensor(\n",
            "[[ 30.  36.  42.]\n",
            " [ 66.  81.  96.]\n",
            " [102. 126. 150.]], shape=(3, 3), dtype=float16)\n"
          ]
        }
      ],
      "source": [
        "import tensorflow as tf\n",
        "tensor = tf.constant([[1, 2, 3], [4, 5, 6], [7, 8, 9]], dtype=tf.float16)\n",
        "print(tensor, \"\\n\")\n",
        "# Tensor同士の行列積を計算する tf.matmul\n",
        "result = tf.matmul(tensor, tensor)\n",
        "print(result)\n"
      ]
    },
    {
      "cell_type": "code",
      "source": [
        "import tensorflow as tf\n",
        "tensor = tf.constant([[False, True, False], [True, True, True], [False, False, False]])\n",
        "print(tensor, \"\\n\")\n",
        "# Tensor同士の行列積を計算する tf.matmul\n",
        "result = tf.matmul(tensor, tensor)\n",
        "#result = tensor @ tensor\n",
        "print(result)"
      ],
      "metadata": {
        "colab": {
          "base_uri": "https://localhost:8080/",
          "height": 541
        },
        "id": "PAogkUUG8XFu",
        "outputId": "5f9cefc3-29a6-4558-93cc-d236cce8d0db"
      },
      "execution_count": null,
      "outputs": [
        {
          "output_type": "stream",
          "name": "stdout",
          "text": [
            "tf.Tensor(\n",
            "[[False  True False]\n",
            " [ True  True  True]\n",
            " [False False False]], shape=(3, 3), dtype=bool) \n",
            "\n"
          ]
        },
        {
          "output_type": "error",
          "ename": "InvalidArgumentError",
          "evalue": "ignored",
          "traceback": [
            "\u001b[0;31m---------------------------------------------------------------------------\u001b[0m",
            "\u001b[0;31mInvalidArgumentError\u001b[0m                      Traceback (most recent call last)",
            "\u001b[0;32m<ipython-input-21-eaf13b35b189>\u001b[0m in \u001b[0;36m<cell line: 5>\u001b[0;34m()\u001b[0m\n\u001b[1;32m      3\u001b[0m \u001b[0mprint\u001b[0m\u001b[0;34m(\u001b[0m\u001b[0mtensor\u001b[0m\u001b[0;34m,\u001b[0m \u001b[0;34m\"\\n\"\u001b[0m\u001b[0;34m)\u001b[0m\u001b[0;34m\u001b[0m\u001b[0;34m\u001b[0m\u001b[0m\n\u001b[1;32m      4\u001b[0m \u001b[0;31m# Tensor同士の行列積を計算する tf.matmul\u001b[0m\u001b[0;34m\u001b[0m\u001b[0;34m\u001b[0m\u001b[0m\n\u001b[0;32m----> 5\u001b[0;31m \u001b[0mresult\u001b[0m \u001b[0;34m=\u001b[0m \u001b[0mtf\u001b[0m\u001b[0;34m.\u001b[0m\u001b[0mmatmul\u001b[0m\u001b[0;34m(\u001b[0m\u001b[0mtensor\u001b[0m\u001b[0;34m,\u001b[0m \u001b[0mtensor\u001b[0m\u001b[0;34m)\u001b[0m\u001b[0;34m\u001b[0m\u001b[0;34m\u001b[0m\u001b[0m\n\u001b[0m\u001b[1;32m      6\u001b[0m \u001b[0;31m#result = tensor @ tensor\u001b[0m\u001b[0;34m\u001b[0m\u001b[0;34m\u001b[0m\u001b[0m\n\u001b[1;32m      7\u001b[0m \u001b[0mprint\u001b[0m\u001b[0;34m(\u001b[0m\u001b[0mresult\u001b[0m\u001b[0;34m)\u001b[0m\u001b[0;34m\u001b[0m\u001b[0;34m\u001b[0m\u001b[0m\n",
            "\u001b[0;32m/usr/local/lib/python3.10/dist-packages/tensorflow/python/util/traceback_utils.py\u001b[0m in \u001b[0;36merror_handler\u001b[0;34m(*args, **kwargs)\u001b[0m\n\u001b[1;32m    151\u001b[0m     \u001b[0;32mexcept\u001b[0m \u001b[0mException\u001b[0m \u001b[0;32mas\u001b[0m \u001b[0me\u001b[0m\u001b[0;34m:\u001b[0m\u001b[0;34m\u001b[0m\u001b[0;34m\u001b[0m\u001b[0m\n\u001b[1;32m    152\u001b[0m       \u001b[0mfiltered_tb\u001b[0m \u001b[0;34m=\u001b[0m \u001b[0m_process_traceback_frames\u001b[0m\u001b[0;34m(\u001b[0m\u001b[0me\u001b[0m\u001b[0;34m.\u001b[0m\u001b[0m__traceback__\u001b[0m\u001b[0;34m)\u001b[0m\u001b[0;34m\u001b[0m\u001b[0;34m\u001b[0m\u001b[0m\n\u001b[0;32m--> 153\u001b[0;31m       \u001b[0;32mraise\u001b[0m \u001b[0me\u001b[0m\u001b[0;34m.\u001b[0m\u001b[0mwith_traceback\u001b[0m\u001b[0;34m(\u001b[0m\u001b[0mfiltered_tb\u001b[0m\u001b[0;34m)\u001b[0m \u001b[0;32mfrom\u001b[0m \u001b[0;32mNone\u001b[0m\u001b[0;34m\u001b[0m\u001b[0;34m\u001b[0m\u001b[0m\n\u001b[0m\u001b[1;32m    154\u001b[0m     \u001b[0;32mfinally\u001b[0m\u001b[0;34m:\u001b[0m\u001b[0;34m\u001b[0m\u001b[0;34m\u001b[0m\u001b[0m\n\u001b[1;32m    155\u001b[0m       \u001b[0;32mdel\u001b[0m \u001b[0mfiltered_tb\u001b[0m\u001b[0;34m\u001b[0m\u001b[0;34m\u001b[0m\u001b[0m\n",
            "\u001b[0;32m/usr/local/lib/python3.10/dist-packages/tensorflow/python/framework/ops.py\u001b[0m in \u001b[0;36mraise_from_not_ok_status\u001b[0;34m(e, name)\u001b[0m\n\u001b[1;32m   5886\u001b[0m \u001b[0;32mdef\u001b[0m \u001b[0mraise_from_not_ok_status\u001b[0m\u001b[0;34m(\u001b[0m\u001b[0me\u001b[0m\u001b[0;34m,\u001b[0m \u001b[0mname\u001b[0m\u001b[0;34m)\u001b[0m \u001b[0;34m->\u001b[0m \u001b[0mNoReturn\u001b[0m\u001b[0;34m:\u001b[0m\u001b[0;34m\u001b[0m\u001b[0;34m\u001b[0m\u001b[0m\n\u001b[1;32m   5887\u001b[0m   \u001b[0me\u001b[0m\u001b[0;34m.\u001b[0m\u001b[0mmessage\u001b[0m \u001b[0;34m+=\u001b[0m \u001b[0;34m(\u001b[0m\u001b[0;34m\" name: \"\u001b[0m \u001b[0;34m+\u001b[0m \u001b[0mstr\u001b[0m\u001b[0;34m(\u001b[0m\u001b[0mname\u001b[0m \u001b[0;32mif\u001b[0m \u001b[0mname\u001b[0m \u001b[0;32mis\u001b[0m \u001b[0;32mnot\u001b[0m \u001b[0;32mNone\u001b[0m \u001b[0;32melse\u001b[0m \u001b[0;34m\"\"\u001b[0m\u001b[0;34m)\u001b[0m\u001b[0;34m)\u001b[0m\u001b[0;34m\u001b[0m\u001b[0;34m\u001b[0m\u001b[0m\n\u001b[0;32m-> 5888\u001b[0;31m   \u001b[0;32mraise\u001b[0m \u001b[0mcore\u001b[0m\u001b[0;34m.\u001b[0m\u001b[0m_status_to_exception\u001b[0m\u001b[0;34m(\u001b[0m\u001b[0me\u001b[0m\u001b[0;34m)\u001b[0m \u001b[0;32mfrom\u001b[0m \u001b[0;32mNone\u001b[0m  \u001b[0;31m# pylint: disable=protected-access\u001b[0m\u001b[0;34m\u001b[0m\u001b[0;34m\u001b[0m\u001b[0m\n\u001b[0m\u001b[1;32m   5889\u001b[0m \u001b[0;34m\u001b[0m\u001b[0m\n\u001b[1;32m   5890\u001b[0m \u001b[0;34m\u001b[0m\u001b[0m\n",
            "\u001b[0;31mInvalidArgumentError\u001b[0m: Value for attr 'T' of bool is not in the list of allowed values: bfloat16, half, float, double, int32, int64, uint8, uint16, uint32, uint64, complex64, complex128\n\t; NodeDef: {{node MatMul}}; Op<name=MatMul; signature=a:T, b:T -> product:T; attr=transpose_a:bool,default=false; attr=transpose_b:bool,default=false; attr=T:type,allowed=[DT_BFLOAT16, DT_HALF, DT_FLOAT, DT_DOUBLE, DT_INT32, DT_INT64, DT_UINT8, DT_UINT16, DT_UINT32, DT_UINT64, DT_COMPLEX64, DT_COMPLEX128]> [Op:MatMul] name: "
          ]
        }
      ]
    },
    {
      "cell_type": "code",
      "source": [
        "import tensorflow as tf\n",
        "\n",
        "x = tf.constant([[True,  True], [False, False]])\n",
        "print(x, \"\\n\")\n",
        "\n",
        "z1 = tf.identity(x)\n",
        "z2 = tf.reduce_all(x)\n",
        "z3 = tf.reduce_all(x,0)\n",
        "z4 = tf.reduce_all(x,1)\n",
        "\n",
        "#sess = tf.Session()\n",
        "#out = sess.run([z1,z2,z3,z4])\n",
        "print(z1)\n",
        "print(z2)\n",
        "print(z3)\n",
        "print(z4)"
      ],
      "metadata": {
        "colab": {
          "base_uri": "https://localhost:8080/"
        },
        "id": "erBxkRiWBhRA",
        "outputId": "9eee18eb-d959-4381-b978-53abb1c10157"
      },
      "execution_count": null,
      "outputs": [
        {
          "output_type": "stream",
          "name": "stdout",
          "text": [
            "tf.Tensor(\n",
            "[[ True  True]\n",
            " [False False]], shape=(2, 2), dtype=bool) \n",
            "\n",
            "tf.Tensor(\n",
            "[[ True  True]\n",
            " [False False]], shape=(2, 2), dtype=bool)\n",
            "tf.Tensor(False, shape=(), dtype=bool)\n",
            "tf.Tensor([False False], shape=(2,), dtype=bool)\n",
            "tf.Tensor([ True False], shape=(2,), dtype=bool)\n"
          ]
        }
      ]
    },
    {
      "cell_type": "code",
      "source": [
        "import tensorflow as tf\n",
        "\n",
        "# 2つのbool型の行列を定義\n",
        "matrix1 = tf.constant([[True, False], [False, True]])\n",
        "matrix2 = tf.constant([[False, True], [True, True]])\n",
        "\n",
        "print(matrix1, \"\\n\")\n",
        "print(matrix2, \"\\n\")\n",
        "\n",
        "# 論理積を計算\n",
        "result = tf.logical_and(matrix1, matrix2)\n",
        "\n",
        "print(result)\n",
        "\n",
        "# Trueの要素の数を数える\n",
        "true_count = tf.reduce_sum(tf.cast(result, tf.int32))\n",
        "print(true_count)\n",
        "\n",
        "# 結果を評価する\n",
        "true_count.numpy()"
      ],
      "metadata": {
        "colab": {
          "base_uri": "https://localhost:8080/"
        },
        "id": "GaVDL5AVD9cL",
        "outputId": "8a614054-953a-4ba1-d1c3-a0f280d78c81"
      },
      "execution_count": null,
      "outputs": [
        {
          "output_type": "stream",
          "name": "stdout",
          "text": [
            "tf.Tensor(\n",
            "[[ True False]\n",
            " [False  True]], shape=(2, 2), dtype=bool) \n",
            "\n",
            "tf.Tensor(\n",
            "[[False  True]\n",
            " [ True  True]], shape=(2, 2), dtype=bool) \n",
            "\n",
            "tf.Tensor(\n",
            "[[False False]\n",
            " [False  True]], shape=(2, 2), dtype=bool)\n",
            "tf.Tensor(1, shape=(), dtype=int32)\n"
          ]
        },
        {
          "output_type": "execute_result",
          "data": {
            "text/plain": [
              "1"
            ]
          },
          "metadata": {},
          "execution_count": 26
        }
      ]
    },
    {
      "cell_type": "code",
      "source": [
        "import tensorflow as tf\n",
        "\n",
        "# 1000行1000列のランダムな値を持つ行列を生成\n",
        "# 生成される値は0から1の間\n",
        "random_matrix1 = tf.random.uniform(shape=(1000, 1000), minval=0, maxval=1)\n",
        "random_matrix2 = tf.random.uniform(shape=(1000, 1000), minval=0, maxval=1)\n",
        "\n",
        "# 0.5を閾値として、それより大きい値をTrue、それ以下をFalseに変換\n",
        "bool_matrix1 = random_matrix1 > 0.5\n",
        "bool_matrix2 = random_matrix2 > 0.5\n",
        "\n",
        "# 結果のbool型行列を表示\n",
        "print(bool_matrix1)\n",
        "print(bool_matrix2)\n",
        "\n",
        "# 論理積を計算\n",
        "result = tf.logical_and(bool_matrix1, bool_matrix2)\n",
        "print(result)\n",
        "\n",
        "# Trueの要素の数を数える\n",
        "true_count = tf.reduce_sum(tf.cast(result, tf.int32))\n",
        "print(true_count)\n",
        "\n",
        "# 結果を評価する\n",
        "true_count.numpy()"
      ],
      "metadata": {
        "colab": {
          "base_uri": "https://localhost:8080/"
        },
        "id": "3t539JF4Fo5z",
        "outputId": "a3eb621a-1497-4f3f-f7e7-22f9addec567"
      },
      "execution_count": null,
      "outputs": [
        {
          "output_type": "stream",
          "name": "stdout",
          "text": [
            "tf.Tensor(\n",
            "[[ True  True False ...  True False False]\n",
            " [ True False  True ...  True False  True]\n",
            " [ True False  True ...  True  True False]\n",
            " ...\n",
            " [ True False  True ... False  True  True]\n",
            " [ True False False ... False  True False]\n",
            " [False  True  True ...  True False  True]], shape=(1000, 1000), dtype=bool)\n",
            "tf.Tensor(\n",
            "[[False  True  True ... False  True False]\n",
            " [False  True False ... False  True False]\n",
            " [False  True  True ...  True False  True]\n",
            " ...\n",
            " [ True False False ...  True False  True]\n",
            " [False False False ... False False  True]\n",
            " [ True False  True ...  True False  True]], shape=(1000, 1000), dtype=bool)\n",
            "tf.Tensor(\n",
            "[[False  True False ... False False False]\n",
            " [False False False ... False False False]\n",
            " [False False  True ...  True False False]\n",
            " ...\n",
            " [ True False False ... False False  True]\n",
            " [False False False ... False False False]\n",
            " [False False  True ...  True False  True]], shape=(1000, 1000), dtype=bool)\n",
            "tf.Tensor(249983, shape=(), dtype=int32)\n"
          ]
        },
        {
          "output_type": "execute_result",
          "data": {
            "text/plain": [
              "249983"
            ]
          },
          "metadata": {},
          "execution_count": 29
        }
      ]
    },
    {
      "cell_type": "code",
      "source": [
        "import torch\n",
        "print(torch.cuda.is_available())\n",
        "\n",
        "# 2つのランダムなbool型行列を生成\n",
        "matrix1 = torch.randint(0, 2, (1000, 1000), dtype=torch.bool)\n",
        "matrix2 = torch.randint(0, 2, (1000, 1000), dtype=torch.bool)\n",
        "print(matrix1)\n",
        "print(matrix2)\n",
        "\n",
        "matrix1 = matrix1.to('cuda')\n",
        "matrix2 = matrix2.to('cuda')\n",
        "print(matrix1)\n",
        "print(matrix2)\n",
        "\n",
        "# 論理積を計算\n",
        "result = matrix1 & matrix2\n",
        "\n",
        "# 結果を表示\n",
        "print(result)\n",
        "\n",
        "# Trueの要素の数を数える\n",
        "true_count = result.sum().item()\n",
        "\n",
        "# 結果を表示\n",
        "print(true_count)"
      ],
      "metadata": {
        "colab": {
          "base_uri": "https://localhost:8080/"
        },
        "id": "TaBsk7bxZ5xW",
        "outputId": "4f01719b-62a7-494b-db43-a93a07e803a2"
      },
      "execution_count": 12,
      "outputs": [
        {
          "output_type": "stream",
          "name": "stdout",
          "text": [
            "True\n",
            "tensor([[False, False,  True,  ..., False, False,  True],\n",
            "        [False, False, False,  ..., False, False,  True],\n",
            "        [False,  True,  True,  ..., False, False, False],\n",
            "        ...,\n",
            "        [False, False, False,  ..., False,  True,  True],\n",
            "        [ True,  True,  True,  ..., False,  True, False],\n",
            "        [ True,  True, False,  ...,  True,  True, False]])\n",
            "tensor([[False, False, False,  ..., False,  True,  True],\n",
            "        [ True, False,  True,  ..., False,  True, False],\n",
            "        [ True,  True,  True,  ..., False, False, False],\n",
            "        ...,\n",
            "        [False, False, False,  ..., False,  True, False],\n",
            "        [ True, False,  True,  ..., False,  True, False],\n",
            "        [False,  True, False,  ..., False, False, False]])\n",
            "tensor([[False, False,  True,  ..., False, False,  True],\n",
            "        [False, False, False,  ..., False, False,  True],\n",
            "        [False,  True,  True,  ..., False, False, False],\n",
            "        ...,\n",
            "        [False, False, False,  ..., False,  True,  True],\n",
            "        [ True,  True,  True,  ..., False,  True, False],\n",
            "        [ True,  True, False,  ...,  True,  True, False]], device='cuda:0')\n",
            "tensor([[False, False, False,  ..., False,  True,  True],\n",
            "        [ True, False,  True,  ..., False,  True, False],\n",
            "        [ True,  True,  True,  ..., False, False, False],\n",
            "        ...,\n",
            "        [False, False, False,  ..., False,  True, False],\n",
            "        [ True, False,  True,  ..., False,  True, False],\n",
            "        [False,  True, False,  ..., False, False, False]], device='cuda:0')\n",
            "tensor([[False, False, False,  ..., False, False,  True],\n",
            "        [False, False, False,  ..., False, False, False],\n",
            "        [False,  True,  True,  ..., False, False, False],\n",
            "        ...,\n",
            "        [False, False, False,  ..., False,  True, False],\n",
            "        [ True, False,  True,  ..., False,  True, False],\n",
            "        [False,  True, False,  ..., False, False, False]], device='cuda:0')\n",
            "249397\n"
          ]
        }
      ]
    },
    {
      "cell_type": "code",
      "source": [
        "import torch\n",
        "\n",
        "print(torch.cuda.is_available())\n",
        "\n",
        "import time\n",
        "# timeit: テンソルを二乗し、計算にかかった時間を表示する。\n",
        "def timeit(x):\n",
        "    t0 = time.time()\n",
        "    x = torch.mm(x, x)\n",
        "    dt = time.time() - t0\n",
        "    #print(dt)\n",
        "    return dt\n",
        "\n",
        "# gpu\n",
        "# 1000×1000のランダムな行列を二乗する。\n",
        "x = torch.rand(1000,1000).to('cuda')\n",
        "print(f'gpu 1000x1000 => {timeit(x)}')\n",
        "# 10000×10000のランダムな行列を二乗する。\n",
        "x = torch.rand(10000,10000).to('cuda')\n",
        "print(f'gpu 10000x10000 => {timeit(x)}')\n",
        "\n",
        "# cpu\n",
        "# 1000×1000のランダムな行列を二乗する。\n",
        "x = torch.rand(1000,1000)\n",
        "print(f'cpu 1000x1000 => {timeit(x)}')\n",
        "# 10000×10000のランダムな行列を二乗する。\n",
        "x = torch.rand(10000,10000)\n",
        "print(f'cpu 10000x10000 => {timeit(x)}')\n"
      ],
      "metadata": {
        "colab": {
          "base_uri": "https://localhost:8080/"
        },
        "id": "VIjpiNn8XSv9",
        "outputId": "c20cc3bf-77c2-46e7-aed1-3b4adc104f9f"
      },
      "execution_count": 20,
      "outputs": [
        {
          "output_type": "stream",
          "name": "stdout",
          "text": [
            "True\n",
            "gpu 1000x1000 => 0.00020456314086914062\n",
            "gpu 10000x10000 => 0.0002148151397705078\n",
            "cpu 1000x1000 => 0.14715957641601562\n",
            "cpu 10000x10000 => 31.2896146774292\n"
          ]
        }
      ]
    },
    {
      "cell_type": "code",
      "source": [
        "import torch\n",
        "import time\n",
        "\n",
        "# 行列のサイズ\n",
        "size = 10000\n",
        "\n",
        "# CPU上での計算\n",
        "start_time_cpu = time.time()\n",
        "matrix_cpu = torch.randn(size, size)\n",
        "#matrix_cpu = torch.rand(size, size)\n",
        "#result_cpu = matrix_cpu ** 2\n",
        "result_cpu = torch.mm(matrix_cpu, matrix_cpu)\n",
        "cpu_duration = time.time() - start_time_cpu\n",
        "\n",
        "# GPU上での計算（CUDAが利用可能な場合）\n",
        "if torch.cuda.is_available():\n",
        "    start_time_gpu = time.time()\n",
        "    matrix_gpu = torch.randn(size, size, device='cuda')\n",
        "    #matrix_gpu = torch.rand(size, size, device='cuda')\n",
        "    #result_gpu = matrix_gpu ** 2\n",
        "    result_gpu = torch.mm(matrix_gpu, matrix_gpu)\n",
        "    gpu_duration = time.time() - start_time_gpu\n",
        "else:\n",
        "    gpu_duration = None\n",
        "\n",
        "print(f\"CPU Duration: {cpu_duration} seconds\")\n",
        "if gpu_duration is not None:\n",
        "    print(f\"GPU Duration: {gpu_duration} seconds\")\n",
        "else:\n",
        "    print(\"CUDA is not available.\")"
      ],
      "metadata": {
        "id": "8k49CZzcXbE2",
        "colab": {
          "base_uri": "https://localhost:8080/"
        },
        "outputId": "d79acc7a-5dd3-4b3f-d9ac-cfb0c2c5ec48"
      },
      "execution_count": 24,
      "outputs": [
        {
          "output_type": "stream",
          "name": "stdout",
          "text": [
            "CPU Duration: 32.15000939369202 seconds\n",
            "GPU Duration: 0.0003829002380371094 seconds\n"
          ]
        }
      ]
    }
  ]
}